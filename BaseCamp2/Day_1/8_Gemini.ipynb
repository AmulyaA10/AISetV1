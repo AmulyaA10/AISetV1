{
 "cells": [
  {
   "cell_type": "markdown",
   "metadata": {},
   "source": [
    "### Gemini Usage for LLM ###\n",
    "**Library Need**  \n",
    "To use the APIs provided by the Geimi platform, the library 'Google GenAI' is required.  \n",
    "Ensure to have performed 'pip install google-genai'  \n",
    "The API key from your Google AI account would be required to execute this code\n"
   ]
  },
  {
   "cell_type": "code",
   "execution_count": 2,
   "metadata": {},
   "outputs": [],
   "source": [
    "# Import required class from Google\n",
    "from google import genai\n",
    "from google.genai import types\n",
    "from dotenv import load_dotenv\n",
    "\n",
    "# Initialise an client object with API key\n",
    "load_dotenv ()\n",
    "client = genai.Client()\n",
    "\n",
    "# Client = genai.Client (api_key='Your API Key')"
   ]
  },
  {
   "cell_type": "markdown",
   "metadata": {},
   "source": [
    "**Invoke for chat Completion**  \n",
    ">We try Gemini to get response from LLM  \n",
    ">Note the differece in terms of API  "
   ]
  },
  {
   "cell_type": "code",
   "execution_count": 3,
   "metadata": {},
   "outputs": [
    {
     "name": "stdout",
     "output_type": "stream",
     "text": [
      "Learning Python is a rewarding journey! Here's a structured approach, combining different learning styles to help you succeed:\n",
      "\n",
      "**1.  Understanding Your Goals & Choosing a Path:**\n",
      "\n",
      "*   **Why do you want to learn Python?**  This will help you focus. Examples:\n",
      "    *   **Data Science/Machine Learning:**  Focus on libraries like NumPy, Pandas, Scikit-learn, TensorFlow/PyTorch.\n",
      "    *   **Web Development:**  Focus on frameworks like Django or Flask.\n",
      "    *   **Scripting/Automation:**  Focus on the standard library and modules like `os`, `shutil`, `requests`.\n",
      "    *   **Game Development:**  Focus on libraries like Pygame or Arcade.\n",
      "*   **Choose a learning style:**\n",
      "    *   **Hands-on:** Building projects right away.\n",
      "    *   **Structured learning:** Following a course or book from start to finish.\n",
      "    *   **Mix and match:**  A combination of both.\n",
      "\n",
      "**2. Foundations: The Basics (Crucial!)**\n",
      "\n",
      "*   **Basic Syntax:**\n",
      "    *   **Variables and Data Types:** Integers (`int`), Floats (`float`), Strings (`str`), Booleans (`bool`), Lists (`list`), Tuples (`tuple`), Dictionaries (`dict`), Sets (`set`).\n",
      "    *   **Operators:**  Arithmetic (+, -, \\*, /, //, %), Comparison (==, !=, >, <, >=, <=), Logical (and, or, not), Assignment (=, +=, -=, etc.).\n",
      "    *   **Control Flow:**  `if`, `elif`, `else` statements; `for` and `while` loops.\n",
      "    *   **Functions:** Defining functions (`def`), arguments, return values.\n",
      "    *   **Input/Output:** `print()` for output, `input()` for user input.\n",
      "    *   **Comments:** Using `#` to add comments to your code.\n",
      "\n",
      "**3. Learning Resources:**\n",
      "\n",
      "*   **Online Courses (Structured Learning):**\n",
      "    *   **Codecademy:**  Interactive, good for beginners.  Offers a Python 3 course.\n",
      "    *   **Coursera:**  Courses from universities.  Often more in-depth. Look for courses like \"Python for Everybody\" by Charles Severance (University of Michigan).\n",
      "    *   **edX:** Similar to Coursera, also offers university courses.\n",
      "    *   **Udemy:**  Wide variety of courses, often with good deals. Look for courses with high ratings and a large number of students.\n",
      "    *   **DataCamp:**  Focuses on data science and machine learning with Python.\n",
      "    *   **FreeCodeCamp.org:**  Free, project-based learning.  Has a comprehensive Python curriculum.\n",
      "\n",
      "*   **Interactive Tutorials:**\n",
      "    *   **Learn Python:** [https://www.learnpython.org/](https://www.learnpython.org/) Good interactive tutorial covering the basics.\n",
      "    *   **Google's Python Class:**  A good introductory course by Google.\n",
      "\n",
      "*   **Books (Structured Learning):**\n",
      "    *   **\"Python Crash Course\" by Eric Matthes:**  Excellent for beginners, project-based.\n",
      "    *   **\"Automate the Boring Stuff with Python\" by Al Sweigart:**  Practical, focuses on automating tasks. Free online version available.\n",
      "    *   **\"Think Python\" by Allen B. Downey:**  Free online version available, focuses on computer science concepts.\n",
      "    *   **\"Fluent Python\" by Luciano Ramalho:**  For more experienced programmers who want to deepen their understanding of Python.\n",
      "\n",
      "*   **Official Python Documentation:** [https://docs.python.org/3/](https://docs.python.org/3/)  A must-have resource, but can be overwhelming for beginners.\n",
      "\n",
      "*   **YouTube Channels:**\n",
      "    *   **freeCodeCamp.org:** Great for tutorials and projects.\n",
      "    *   **Corey Schafer:**  Excellent explanations of Python concepts and libraries.\n",
      "    *   **Sentdex:**  Covers a wide range of topics, from basic Python to advanced machine learning.\n",
      "    *   **Programming with Mosh:** Clear and concise tutorials.\n",
      "\n",
      "**4.  Practice, Practice, Practice! (The Most Important Step)**\n",
      "\n",
      "*   **Write code every day:** Even if it's just for 15-30 minutes.\n",
      "*   **Small Projects:**\n",
      "    *   **Calculator:** A simple command-line calculator.\n",
      "    *   **To-Do List:** A program to manage a to-do list.\n",
      "    *   **Number Guessing Game:**  A game where the user guesses a random number.\n",
      "    *   **Rock, Paper, Scissors:**  The classic game.\n",
      "    *   **Simple Web Scraper:** Extract data from a website.\n",
      "*   **Coding Challenges:**\n",
      "    *   **HackerRank:**  Good for practicing algorithms and data structures.\n",
      "    *   **LeetCode:**  Similar to HackerRank, used for interview preparation.\n",
      "    *   **Codewars:**  Kata-based challenges.\n",
      "*   **Contribute to Open Source:**  Find a project on GitHub and contribute code (even small contributions are helpful).  This is a great way to learn from experienced developers.\n",
      "\n",
      "**5.  Intermediate/Advanced Topics (After mastering the basics):**\n",
      "\n",
      "*   **Object-Oriented Programming (OOP):** Classes, objects, inheritance, polymorphism.\n",
      "*   **Modules and Packages:**  Creating and using your own modules.\n",
      "*   **File Handling:**  Reading and writing files.\n",
      "*   **Error Handling:**  `try`, `except` blocks.\n",
      "*   **Regular Expressions:**  Pattern matching.\n",
      "*   **Databases:**  Connecting to databases (e.g., SQLite, MySQL, PostgreSQL) using libraries like `sqlite3` or `psycopg2`.\n",
      "*   **Concurrency and Parallelism:**  Using threads and processes.\n",
      "*   **Decorators:** Modifying function behavior.\n",
      "*   **Generators and Iterators:** Creating efficient sequences.\n",
      "*   **Virtual Environments:** Managing project dependencies.\n",
      "*   **Testing:**  Writing unit tests with `unittest` or `pytest`.\n",
      "\n",
      "**6.  Tips for Success:**\n",
      "\n",
      "*   **Don't be afraid to ask for help:**  Use Stack Overflow, Reddit (r/learnpython, r/python), or other online forums.  Be specific with your questions and provide relevant code snippets.\n",
      "*   **Read other people's code:**  Study code on GitHub to learn different approaches and best practices.\n",
      "*   **Debug your code:**  Learn how to use a debugger (e.g., `pdb`) to step through your code and find errors.  Print statements are your friend too!\n",
      "*   **Stay consistent:**  Try to code regularly, even if it's just for a short time each day.\n",
      "*   **Focus on one thing at a time:**  Don't try to learn everything at once.  Start with the basics and gradually move on to more advanced topics.\n",
      "*   **Be patient:**  Learning to program takes time and effort.  Don't get discouraged if you don't understand something right away.\n",
      "*   **Google is your friend:**  Learn how to effectively search for solutions to your problems.\n",
      "*   **Join a community:**  Connect with other Python learners online or in person.  This can help you stay motivated and learn from others.\n",
      "*   **Use a good code editor or IDE:**  Some popular options include VS Code, PyCharm, Sublime Text, and Atom.  These tools provide features like syntax highlighting, code completion, and debugging support.\n",
      "\n",
      "**Choosing a specific resource to start with:**\n",
      "\n",
      "*   **Complete beginner who knows nothing about programming:**  Start with Codecademy or \"Python Crash Course\".  These are very gentle introductions.\n",
      "*   **Some programming experience:** Consider \"Automate the Boring Stuff\" if you want practical applications, or \"Think Python\" if you want a more theoretical understanding.\n",
      "*   **Visual learners:** Find a good YouTube course that resonates with your learning style.  Corey Schafer and freeCodeCamp.org are great options.\n",
      "\n",
      "Good luck on your Python journey!  Enjoy the process and have fun building things. Remember that the key is consistent practice.\n",
      "\n"
     ]
    }
   ],
   "source": [
    "response = client.models.generate_content(\n",
    "                model=\"gemini-2.0-flash\", \n",
    "                contents=\"How do I learn python?\"\n",
    "            )\n",
    "print(response.text)"
   ]
  },
  {
   "cell_type": "code",
   "execution_count": 4,
   "metadata": {},
   "outputs": [
    {
     "name": "stdout",
     "output_type": "stream",
     "text": [
      "When Trump says \"Tariff,\" the world holds its breath, bracing for potential economic ripples. Nations anticipate trade wars, disrupted supply chains, and increased consumer costs. Businesses reassess strategies, and markets react with uncertainty, highlighting the significant impact of protectionist policies on the global economy.\n",
      "\n",
      "When Trump says \"Tariff,\" the world holds its breath. Nations brace for potential trade wars, economic disruption, and increased costs for consumers. Businesses re-evaluate supply chains, and markets react with volatility, anticipating shifts in global trade dynamics and potential retaliatory measures.\n",
      "\n",
      "When Trump says \"Tariff,\" the world holds its breath. Global markets brace for potential trade wars, businesses reassess supply chains, and consumers anticipate higher prices on imported goods. The ripple effect extends to diplomatic relations, often straining alliances and fostering uncertainty in the international economic landscape.\n",
      "\n",
      "When Trump says \"Tariff,\" the world braces for economic ripples. Markets react with uncertainty, trade partners re-evaluate agreements, and businesses scramble to adjust supply chains, fearing increased costs and potential trade wars that could ultimately impact global growth and consumer prices.\n",
      "\n",
      "When Trump says \"Tariff,\" the world braces for potential economic fallout. Nations anticipate trade wars, disrupted supply chains, and increased consumer prices. Businesses reassess strategies, and international relationships face strain as countries consider retaliatory measures to protect their own economies.\n",
      "\n"
     ]
    }
   ],
   "source": [
    "# There is a specific instruction given \n",
    "Instruction = \"Continue the statement and make it 50 words\"\n",
    "Statement  = \"When Trump says Tariff, the world ...\"\n",
    "# Statement  = \"They say technology is for people, but ...\"\n",
    "\n",
    "# Invoke multiple times ...\n",
    "# ?? What do we expect \n",
    "for i in range (5):\n",
    "    \n",
    "    response = client.models.generate_content(\n",
    "                    model=\"gemini-2.0-flash\",\n",
    "                    config =types.GenerateContentConfig(\n",
    "                                system_instruction=Instruction,),\n",
    "                    contents =Statement\n",
    "    )\n",
    "\n",
    "    print(response.text)"
   ]
  }
 ],
 "metadata": {
  "kernelspec": {
   "display_name": "new_env",
   "language": "python",
   "name": "python3"
  },
  "language_info": {
   "codemirror_mode": {
    "name": "ipython",
    "version": 3
   },
   "file_extension": ".py",
   "mimetype": "text/x-python",
   "name": "python",
   "nbconvert_exporter": "python",
   "pygments_lexer": "ipython3",
   "version": "3.11.4"
  }
 },
 "nbformat": 4,
 "nbformat_minor": 2
}
